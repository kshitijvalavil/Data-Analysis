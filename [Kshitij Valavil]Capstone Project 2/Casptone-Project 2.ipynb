{
 "cells": [
  {
   "cell_type": "markdown",
   "metadata": {},
   "source": [
    "<h1><center>CAPSTONE PROJECT - 2</center></h1>"
   ]
  },
  {
   "cell_type": "markdown",
   "metadata": {},
   "source": [
    "# Data Analysis of the Global Superstore Dataset using Python"
   ]
  },
  {
   "cell_type": "code",
   "execution_count": 1,
   "metadata": {},
   "outputs": [],
   "source": [
    "import pandas as pd\n",
    "import numpy as np\n",
    "import matplotlib.pyplot as plt\n",
    "import seaborn as sns"
   ]
  },
  {
   "cell_type": "markdown",
   "metadata": {},
   "source": [
    "## IMPORTING THE DATA"
   ]
  },
  {
   "cell_type": "code",
   "execution_count": 2,
   "metadata": {
    "scrolled": true
   },
   "outputs": [
    {
     "name": "stdout",
     "output_type": "stream",
     "text": [
      "   Row ID         Order ID Order Date  Ship Date     Ship Mode Customer ID  \\\n",
      "0   32298   CA-2012-124891 2012-07-31 2012-07-31      Same Day    RH-19495   \n",
      "1   26341    IN-2013-77878 2013-02-05 2013-02-07  Second Class    JR-16210   \n",
      "2   25330    IN-2013-71249 2013-10-17 2013-10-18   First Class    CR-12730   \n",
      "3   13524  ES-2013-1579342 2013-01-28 2013-01-30   First Class    KM-16375   \n",
      "4   47221     SG-2013-4320 2013-11-05 2013-11-06      Same Day     RH-9495   \n",
      "\n",
      "      Customer Name      Segment           City            State  ...  \\\n",
      "0       Rick Hansen     Consumer  New York City         New York  ...   \n",
      "1     Justin Ritter    Corporate     Wollongong  New South Wales  ...   \n",
      "2      Craig Reiter     Consumer       Brisbane       Queensland  ...   \n",
      "3  Katherine Murray  Home Office         Berlin           Berlin  ...   \n",
      "4       Rick Hansen     Consumer          Dakar            Dakar  ...   \n",
      "\n",
      "         Product ID    Category Sub-Category  \\\n",
      "0   TEC-AC-10003033  Technology  Accessories   \n",
      "1   FUR-CH-10003950   Furniture       Chairs   \n",
      "2   TEC-PH-10004664  Technology       Phones   \n",
      "3   TEC-PH-10004583  Technology       Phones   \n",
      "4  TEC-SHA-10000501  Technology      Copiers   \n",
      "\n",
      "                                        Product Name     Sales Quantity  \\\n",
      "0  Plantronics CS510 - Over-the-Head monaural Wir...  2309.650        7   \n",
      "1          Novimex Executive Leather Armchair, Black  3709.395        9   \n",
      "2                  Nokia Smart Phone, with Caller ID  5175.171        9   \n",
      "3                     Motorola Smart Phone, Cordless  2892.510        5   \n",
      "4                     Sharp Wireless Fax, High-Speed  2832.960        8   \n",
      "\n",
      "  Discount    Profit  Shipping Cost  Order Priority  \n",
      "0      0.0  762.1845         933.57        Critical  \n",
      "1      0.1 -288.7650         923.63        Critical  \n",
      "2      0.1  919.9710         915.49          Medium  \n",
      "3      0.1  -96.5400         910.16          Medium  \n",
      "4      0.0  311.5200         903.04        Critical  \n",
      "\n",
      "[5 rows x 24 columns]               Person   Region\n",
      "0      Anna Andreadi  Central\n",
      "1        Chuck Magee    South\n",
      "2     Kelly Williams     East\n",
      "3     Matt Collister     West\n",
      "4  Deborah Brumfield   Africa   Returned         Order ID         Market\n",
      "0      Yes   MX-2013-168137          LATAM\n",
      "1      Yes   US-2011-165316          LATAM\n",
      "2      Yes  ES-2013-1525878             EU\n",
      "3      Yes   CA-2013-118311  United States\n",
      "4      Yes  ES-2011-1276768             EU\n"
     ]
    }
   ],
   "source": [
    "order = pd.read_excel('/Users/kshitij/Desktop/DAC_Course/Global SuperStore DataSet/Global Superstore.xls')\n",
    "customer = pd.read_excel('/Users/kshitij/Desktop/DAC_Course/Global SuperStore DataSet/Customers.xlsx')\n",
    "returned = pd.read_excel('/Users/kshitij/Desktop/DAC_Course/Global SuperStore DataSet/ReturnedOrder.xlsx')\n",
    "print(order.head(),customer.head(), returned.head())"
   ]
  },
  {
   "cell_type": "code",
   "execution_count": 3,
   "metadata": {},
   "outputs": [
    {
     "data": {
      "text/html": [
       "<div>\n",
       "<style scoped>\n",
       "    .dataframe tbody tr th:only-of-type {\n",
       "        vertical-align: middle;\n",
       "    }\n",
       "\n",
       "    .dataframe tbody tr th {\n",
       "        vertical-align: top;\n",
       "    }\n",
       "\n",
       "    .dataframe thead th {\n",
       "        text-align: right;\n",
       "    }\n",
       "</style>\n",
       "<table border=\"1\" class=\"dataframe\">\n",
       "  <thead>\n",
       "    <tr style=\"text-align: right;\">\n",
       "      <th></th>\n",
       "      <th>Returned</th>\n",
       "      <th>Order ID</th>\n",
       "      <th>Market</th>\n",
       "    </tr>\n",
       "  </thead>\n",
       "  <tbody>\n",
       "    <tr>\n",
       "      <th>0</th>\n",
       "      <td>Yes</td>\n",
       "      <td>MX-2013-168137</td>\n",
       "      <td>LATAM</td>\n",
       "    </tr>\n",
       "    <tr>\n",
       "      <th>1</th>\n",
       "      <td>Yes</td>\n",
       "      <td>US-2011-165316</td>\n",
       "      <td>LATAM</td>\n",
       "    </tr>\n",
       "    <tr>\n",
       "      <th>2</th>\n",
       "      <td>Yes</td>\n",
       "      <td>ES-2013-1525878</td>\n",
       "      <td>EU</td>\n",
       "    </tr>\n",
       "    <tr>\n",
       "      <th>3</th>\n",
       "      <td>Yes</td>\n",
       "      <td>CA-2013-118311</td>\n",
       "      <td>United States</td>\n",
       "    </tr>\n",
       "    <tr>\n",
       "      <th>4</th>\n",
       "      <td>Yes</td>\n",
       "      <td>ES-2011-1276768</td>\n",
       "      <td>EU</td>\n",
       "    </tr>\n",
       "    <tr>\n",
       "      <th>...</th>\n",
       "      <td>...</td>\n",
       "      <td>...</td>\n",
       "      <td>...</td>\n",
       "    </tr>\n",
       "    <tr>\n",
       "      <th>1168</th>\n",
       "      <td>Yes</td>\n",
       "      <td>ES-2013-2639112</td>\n",
       "      <td>EU</td>\n",
       "    </tr>\n",
       "    <tr>\n",
       "      <th>1169</th>\n",
       "      <td>Yes</td>\n",
       "      <td>CA-2014-134194</td>\n",
       "      <td>United States</td>\n",
       "    </tr>\n",
       "    <tr>\n",
       "      <th>1170</th>\n",
       "      <td>Yes</td>\n",
       "      <td>ES-2012-3246286</td>\n",
       "      <td>EU</td>\n",
       "    </tr>\n",
       "    <tr>\n",
       "      <th>1171</th>\n",
       "      <td>Yes</td>\n",
       "      <td>ES-2012-4379168</td>\n",
       "      <td>EU</td>\n",
       "    </tr>\n",
       "    <tr>\n",
       "      <th>1172</th>\n",
       "      <td>Yes</td>\n",
       "      <td>CA-2014-168193</td>\n",
       "      <td>United States</td>\n",
       "    </tr>\n",
       "  </tbody>\n",
       "</table>\n",
       "<p>1173 rows × 3 columns</p>\n",
       "</div>"
      ],
      "text/plain": [
       "     Returned         Order ID         Market\n",
       "0         Yes   MX-2013-168137          LATAM\n",
       "1         Yes   US-2011-165316          LATAM\n",
       "2         Yes  ES-2013-1525878             EU\n",
       "3         Yes   CA-2013-118311  United States\n",
       "4         Yes  ES-2011-1276768             EU\n",
       "...       ...              ...            ...\n",
       "1168      Yes  ES-2013-2639112             EU\n",
       "1169      Yes   CA-2014-134194  United States\n",
       "1170      Yes  ES-2012-3246286             EU\n",
       "1171      Yes  ES-2012-4379168             EU\n",
       "1172      Yes   CA-2014-168193  United States\n",
       "\n",
       "[1173 rows x 3 columns]"
      ]
     },
     "metadata": {},
     "output_type": "display_data"
    },
    {
     "data": {
      "text/html": [
       "<div>\n",
       "<style scoped>\n",
       "    .dataframe tbody tr th:only-of-type {\n",
       "        vertical-align: middle;\n",
       "    }\n",
       "\n",
       "    .dataframe tbody tr th {\n",
       "        vertical-align: top;\n",
       "    }\n",
       "\n",
       "    .dataframe thead th {\n",
       "        text-align: right;\n",
       "    }\n",
       "</style>\n",
       "<table border=\"1\" class=\"dataframe\">\n",
       "  <thead>\n",
       "    <tr style=\"text-align: right;\">\n",
       "      <th></th>\n",
       "      <th>Row ID</th>\n",
       "      <th>Order ID</th>\n",
       "      <th>Order Date</th>\n",
       "      <th>Ship Date</th>\n",
       "      <th>Ship Mode</th>\n",
       "      <th>Customer ID</th>\n",
       "      <th>Customer Name</th>\n",
       "      <th>Segment</th>\n",
       "      <th>City</th>\n",
       "      <th>State</th>\n",
       "      <th>...</th>\n",
       "      <th>Sub-Category</th>\n",
       "      <th>Product Name</th>\n",
       "      <th>Sales</th>\n",
       "      <th>Quantity</th>\n",
       "      <th>Discount</th>\n",
       "      <th>Profit</th>\n",
       "      <th>Shipping Cost</th>\n",
       "      <th>Order Priority</th>\n",
       "      <th>Person</th>\n",
       "      <th>Returned</th>\n",
       "    </tr>\n",
       "  </thead>\n",
       "  <tbody>\n",
       "    <tr>\n",
       "      <th>0</th>\n",
       "      <td>26341</td>\n",
       "      <td>IN-2013-77878</td>\n",
       "      <td>2013-02-05</td>\n",
       "      <td>2013-02-07</td>\n",
       "      <td>Second Class</td>\n",
       "      <td>JR-16210</td>\n",
       "      <td>Justin Ritter</td>\n",
       "      <td>Corporate</td>\n",
       "      <td>Wollongong</td>\n",
       "      <td>New South Wales</td>\n",
       "      <td>...</td>\n",
       "      <td>Chairs</td>\n",
       "      <td>Novimex Executive Leather Armchair, Black</td>\n",
       "      <td>3709.3950</td>\n",
       "      <td>9</td>\n",
       "      <td>0.10</td>\n",
       "      <td>-288.7650</td>\n",
       "      <td>923.63</td>\n",
       "      <td>Critical</td>\n",
       "      <td>Anthony Jacobs</td>\n",
       "      <td>Yes</td>\n",
       "    </tr>\n",
       "    <tr>\n",
       "      <th>1</th>\n",
       "      <td>26339</td>\n",
       "      <td>IN-2013-77878</td>\n",
       "      <td>2013-02-05</td>\n",
       "      <td>2013-02-07</td>\n",
       "      <td>Second Class</td>\n",
       "      <td>JR-16210</td>\n",
       "      <td>Justin Ritter</td>\n",
       "      <td>Corporate</td>\n",
       "      <td>Wollongong</td>\n",
       "      <td>New South Wales</td>\n",
       "      <td>...</td>\n",
       "      <td>Copiers</td>\n",
       "      <td>Brother Fax and Copier, Laser</td>\n",
       "      <td>344.6820</td>\n",
       "      <td>2</td>\n",
       "      <td>0.10</td>\n",
       "      <td>34.4220</td>\n",
       "      <td>65.35</td>\n",
       "      <td>Critical</td>\n",
       "      <td>Anthony Jacobs</td>\n",
       "      <td>Yes</td>\n",
       "    </tr>\n",
       "    <tr>\n",
       "      <th>2</th>\n",
       "      <td>26340</td>\n",
       "      <td>IN-2013-77878</td>\n",
       "      <td>2013-02-05</td>\n",
       "      <td>2013-02-07</td>\n",
       "      <td>Second Class</td>\n",
       "      <td>JR-16210</td>\n",
       "      <td>Justin Ritter</td>\n",
       "      <td>Corporate</td>\n",
       "      <td>Wollongong</td>\n",
       "      <td>New South Wales</td>\n",
       "      <td>...</td>\n",
       "      <td>Storage</td>\n",
       "      <td>Rogers Folders, Wire Frame</td>\n",
       "      <td>133.9200</td>\n",
       "      <td>5</td>\n",
       "      <td>0.10</td>\n",
       "      <td>-6.0300</td>\n",
       "      <td>41.64</td>\n",
       "      <td>Critical</td>\n",
       "      <td>Anthony Jacobs</td>\n",
       "      <td>Yes</td>\n",
       "    </tr>\n",
       "    <tr>\n",
       "      <th>3</th>\n",
       "      <td>26342</td>\n",
       "      <td>IN-2013-77878</td>\n",
       "      <td>2013-02-05</td>\n",
       "      <td>2013-02-07</td>\n",
       "      <td>Second Class</td>\n",
       "      <td>JR-16210</td>\n",
       "      <td>Justin Ritter</td>\n",
       "      <td>Corporate</td>\n",
       "      <td>Wollongong</td>\n",
       "      <td>New South Wales</td>\n",
       "      <td>...</td>\n",
       "      <td>Accessories</td>\n",
       "      <td>Enermax Flash Drive, Erganomic</td>\n",
       "      <td>70.7940</td>\n",
       "      <td>2</td>\n",
       "      <td>0.10</td>\n",
       "      <td>25.1340</td>\n",
       "      <td>10.48</td>\n",
       "      <td>Critical</td>\n",
       "      <td>Anthony Jacobs</td>\n",
       "      <td>Yes</td>\n",
       "    </tr>\n",
       "    <tr>\n",
       "      <th>4</th>\n",
       "      <td>30934</td>\n",
       "      <td>IN-2011-86278</td>\n",
       "      <td>2011-10-06</td>\n",
       "      <td>2011-10-11</td>\n",
       "      <td>Standard Class</td>\n",
       "      <td>NH-18610</td>\n",
       "      <td>Nicole Hansen</td>\n",
       "      <td>Corporate</td>\n",
       "      <td>Wellington</td>\n",
       "      <td>Wellington</td>\n",
       "      <td>...</td>\n",
       "      <td>Tables</td>\n",
       "      <td>Hon Conference Table, Adjustable Height</td>\n",
       "      <td>3694.6800</td>\n",
       "      <td>4</td>\n",
       "      <td>0.00</td>\n",
       "      <td>886.6800</td>\n",
       "      <td>382.77</td>\n",
       "      <td>High</td>\n",
       "      <td>Anthony Jacobs</td>\n",
       "      <td>Yes</td>\n",
       "    </tr>\n",
       "    <tr>\n",
       "      <th>...</th>\n",
       "      <td>...</td>\n",
       "      <td>...</td>\n",
       "      <td>...</td>\n",
       "      <td>...</td>\n",
       "      <td>...</td>\n",
       "      <td>...</td>\n",
       "      <td>...</td>\n",
       "      <td>...</td>\n",
       "      <td>...</td>\n",
       "      <td>...</td>\n",
       "      <td>...</td>\n",
       "      <td>...</td>\n",
       "      <td>...</td>\n",
       "      <td>...</td>\n",
       "      <td>...</td>\n",
       "      <td>...</td>\n",
       "      <td>...</td>\n",
       "      <td>...</td>\n",
       "      <td>...</td>\n",
       "      <td>...</td>\n",
       "      <td>...</td>\n",
       "    </tr>\n",
       "    <tr>\n",
       "      <th>2238</th>\n",
       "      <td>23201</td>\n",
       "      <td>ID-2013-48709</td>\n",
       "      <td>2013-08-02</td>\n",
       "      <td>2013-08-07</td>\n",
       "      <td>Standard Class</td>\n",
       "      <td>CS-12175</td>\n",
       "      <td>Charles Sheldon</td>\n",
       "      <td>Corporate</td>\n",
       "      <td>Bekasi</td>\n",
       "      <td>Jawa Barat</td>\n",
       "      <td>...</td>\n",
       "      <td>Binders</td>\n",
       "      <td>Ibico Index Tab, Clear</td>\n",
       "      <td>41.6826</td>\n",
       "      <td>6</td>\n",
       "      <td>0.17</td>\n",
       "      <td>-6.5574</td>\n",
       "      <td>3.03</td>\n",
       "      <td>Medium</td>\n",
       "      <td>Alejandro Ballentine</td>\n",
       "      <td>Yes</td>\n",
       "    </tr>\n",
       "    <tr>\n",
       "      <th>2239</th>\n",
       "      <td>26539</td>\n",
       "      <td>ID-2013-60637</td>\n",
       "      <td>2013-04-19</td>\n",
       "      <td>2013-04-23</td>\n",
       "      <td>Standard Class</td>\n",
       "      <td>BD-11320</td>\n",
       "      <td>Bill Donatelli</td>\n",
       "      <td>Consumer</td>\n",
       "      <td>Las Pinas</td>\n",
       "      <td>National Capital</td>\n",
       "      <td>...</td>\n",
       "      <td>Storage</td>\n",
       "      <td>Eldon Shelving, Single Width</td>\n",
       "      <td>53.2950</td>\n",
       "      <td>2</td>\n",
       "      <td>0.45</td>\n",
       "      <td>-38.8050</td>\n",
       "      <td>3.15</td>\n",
       "      <td>Medium</td>\n",
       "      <td>Alejandro Ballentine</td>\n",
       "      <td>Yes</td>\n",
       "    </tr>\n",
       "    <tr>\n",
       "      <th>2240</th>\n",
       "      <td>29867</td>\n",
       "      <td>IN-2011-56486</td>\n",
       "      <td>2011-05-03</td>\n",
       "      <td>2011-05-09</td>\n",
       "      <td>Standard Class</td>\n",
       "      <td>JM-15265</td>\n",
       "      <td>Janet Molinari</td>\n",
       "      <td>Corporate</td>\n",
       "      <td>Ho Chi Minh City</td>\n",
       "      <td>Ho Chí Minh City</td>\n",
       "      <td>...</td>\n",
       "      <td>Phones</td>\n",
       "      <td>Nokia Office Telephone, with Caller ID</td>\n",
       "      <td>54.0579</td>\n",
       "      <td>1</td>\n",
       "      <td>0.17</td>\n",
       "      <td>4.5579</td>\n",
       "      <td>2.95</td>\n",
       "      <td>Medium</td>\n",
       "      <td>Alejandro Ballentine</td>\n",
       "      <td>Yes</td>\n",
       "    </tr>\n",
       "    <tr>\n",
       "      <th>2241</th>\n",
       "      <td>25546</td>\n",
       "      <td>ID-2013-36312</td>\n",
       "      <td>2013-11-18</td>\n",
       "      <td>2013-11-24</td>\n",
       "      <td>Standard Class</td>\n",
       "      <td>BP-11290</td>\n",
       "      <td>Beth Paige</td>\n",
       "      <td>Consumer</td>\n",
       "      <td>Bangkok</td>\n",
       "      <td>Bangkok</td>\n",
       "      <td>...</td>\n",
       "      <td>Fasteners</td>\n",
       "      <td>Stockwell Thumb Tacks, Assorted Sizes</td>\n",
       "      <td>5.6127</td>\n",
       "      <td>1</td>\n",
       "      <td>0.47</td>\n",
       "      <td>-2.7573</td>\n",
       "      <td>0.57</td>\n",
       "      <td>Medium</td>\n",
       "      <td>Alejandro Ballentine</td>\n",
       "      <td>Yes</td>\n",
       "    </tr>\n",
       "    <tr>\n",
       "      <th>2242</th>\n",
       "      <td>28662</td>\n",
       "      <td>ID-2013-74875</td>\n",
       "      <td>2013-02-12</td>\n",
       "      <td>2013-02-19</td>\n",
       "      <td>Standard Class</td>\n",
       "      <td>CA-12310</td>\n",
       "      <td>Christine Abelman</td>\n",
       "      <td>Corporate</td>\n",
       "      <td>Medan</td>\n",
       "      <td>Sumatera Utara</td>\n",
       "      <td>...</td>\n",
       "      <td>Paper</td>\n",
       "      <td>SanDisk Message Books, Recycled</td>\n",
       "      <td>12.5769</td>\n",
       "      <td>1</td>\n",
       "      <td>0.47</td>\n",
       "      <td>-4.0431</td>\n",
       "      <td>0.25</td>\n",
       "      <td>Medium</td>\n",
       "      <td>Alejandro Ballentine</td>\n",
       "      <td>Yes</td>\n",
       "    </tr>\n",
       "  </tbody>\n",
       "</table>\n",
       "<p>2243 rows × 26 columns</p>\n",
       "</div>"
      ],
      "text/plain": [
       "      Row ID       Order ID Order Date  Ship Date       Ship Mode Customer ID  \\\n",
       "0      26341  IN-2013-77878 2013-02-05 2013-02-07    Second Class    JR-16210   \n",
       "1      26339  IN-2013-77878 2013-02-05 2013-02-07    Second Class    JR-16210   \n",
       "2      26340  IN-2013-77878 2013-02-05 2013-02-07    Second Class    JR-16210   \n",
       "3      26342  IN-2013-77878 2013-02-05 2013-02-07    Second Class    JR-16210   \n",
       "4      30934  IN-2011-86278 2011-10-06 2011-10-11  Standard Class    NH-18610   \n",
       "...      ...            ...        ...        ...             ...         ...   \n",
       "2238   23201  ID-2013-48709 2013-08-02 2013-08-07  Standard Class    CS-12175   \n",
       "2239   26539  ID-2013-60637 2013-04-19 2013-04-23  Standard Class    BD-11320   \n",
       "2240   29867  IN-2011-56486 2011-05-03 2011-05-09  Standard Class    JM-15265   \n",
       "2241   25546  ID-2013-36312 2013-11-18 2013-11-24  Standard Class    BP-11290   \n",
       "2242   28662  ID-2013-74875 2013-02-12 2013-02-19  Standard Class    CA-12310   \n",
       "\n",
       "          Customer Name    Segment              City             State  ...  \\\n",
       "0         Justin Ritter  Corporate        Wollongong   New South Wales  ...   \n",
       "1         Justin Ritter  Corporate        Wollongong   New South Wales  ...   \n",
       "2         Justin Ritter  Corporate        Wollongong   New South Wales  ...   \n",
       "3         Justin Ritter  Corporate        Wollongong   New South Wales  ...   \n",
       "4         Nicole Hansen  Corporate        Wellington        Wellington  ...   \n",
       "...                 ...        ...               ...               ...  ...   \n",
       "2238    Charles Sheldon  Corporate            Bekasi        Jawa Barat  ...   \n",
       "2239     Bill Donatelli   Consumer         Las Pinas  National Capital  ...   \n",
       "2240     Janet Molinari  Corporate  Ho Chi Minh City  Ho Chí Minh City  ...   \n",
       "2241         Beth Paige   Consumer           Bangkok           Bangkok  ...   \n",
       "2242  Christine Abelman  Corporate             Medan    Sumatera Utara  ...   \n",
       "\n",
       "     Sub-Category                               Product Name      Sales  \\\n",
       "0          Chairs  Novimex Executive Leather Armchair, Black  3709.3950   \n",
       "1         Copiers              Brother Fax and Copier, Laser   344.6820   \n",
       "2         Storage                 Rogers Folders, Wire Frame   133.9200   \n",
       "3     Accessories             Enermax Flash Drive, Erganomic    70.7940   \n",
       "4          Tables    Hon Conference Table, Adjustable Height  3694.6800   \n",
       "...           ...                                        ...        ...   \n",
       "2238      Binders                     Ibico Index Tab, Clear    41.6826   \n",
       "2239      Storage               Eldon Shelving, Single Width    53.2950   \n",
       "2240       Phones     Nokia Office Telephone, with Caller ID    54.0579   \n",
       "2241    Fasteners      Stockwell Thumb Tacks, Assorted Sizes     5.6127   \n",
       "2242        Paper            SanDisk Message Books, Recycled    12.5769   \n",
       "\n",
       "     Quantity Discount    Profit Shipping Cost Order Priority  \\\n",
       "0           9     0.10 -288.7650        923.63       Critical   \n",
       "1           2     0.10   34.4220         65.35       Critical   \n",
       "2           5     0.10   -6.0300         41.64       Critical   \n",
       "3           2     0.10   25.1340         10.48       Critical   \n",
       "4           4     0.00  886.6800        382.77           High   \n",
       "...       ...      ...       ...           ...            ...   \n",
       "2238        6     0.17   -6.5574          3.03         Medium   \n",
       "2239        2     0.45  -38.8050          3.15         Medium   \n",
       "2240        1     0.17    4.5579          2.95         Medium   \n",
       "2241        1     0.47   -2.7573          0.57         Medium   \n",
       "2242        1     0.47   -4.0431          0.25         Medium   \n",
       "\n",
       "                    Person  Returned  \n",
       "0           Anthony Jacobs       Yes  \n",
       "1           Anthony Jacobs       Yes  \n",
       "2           Anthony Jacobs       Yes  \n",
       "3           Anthony Jacobs       Yes  \n",
       "4           Anthony Jacobs       Yes  \n",
       "...                    ...       ...  \n",
       "2238  Alejandro Ballentine       Yes  \n",
       "2239  Alejandro Ballentine       Yes  \n",
       "2240  Alejandro Ballentine       Yes  \n",
       "2241  Alejandro Ballentine       Yes  \n",
       "2242  Alejandro Ballentine       Yes  \n",
       "\n",
       "[2243 rows x 26 columns]"
      ]
     },
     "metadata": {},
     "output_type": "display_data"
    }
   ],
   "source": [
    "orders=pd.merge(order, customer, on=['Region'], )\n",
    "display(returned ,pd.merge(orders, returned))"
   ]
  },
  {
   "cell_type": "markdown",
   "metadata": {},
   "source": [
    "## DATA CLEANSING"
   ]
  },
  {
   "cell_type": "code",
   "execution_count": 4,
   "metadata": {},
   "outputs": [
    {
     "name": "stdout",
     "output_type": "stream",
     "text": [
      "(46261, 25)\n",
      "Index(['Row ID', 'Order ID', 'Order Date', 'Ship Date', 'Ship Mode',\n",
      "       'Customer ID', 'Customer Name', 'Segment', 'City', 'State', 'Country',\n",
      "       'Postal Code', 'Market', 'Region', 'Product ID', 'Category',\n",
      "       'Sub-Category', 'Product Name', 'Sales', 'Quantity', 'Discount',\n",
      "       'Profit', 'Shipping Cost', 'Order Priority', 'Person'],\n",
      "      dtype='object')\n",
      "<class 'pandas.core.frame.DataFrame'>\n",
      "Int64Index: 46261 entries, 0 to 46260\n",
      "Data columns (total 25 columns):\n",
      " #   Column          Non-Null Count  Dtype         \n",
      "---  ------          --------------  -----         \n",
      " 0   Row ID          46261 non-null  int64         \n",
      " 1   Order ID        46261 non-null  object        \n",
      " 2   Order Date      46261 non-null  datetime64[ns]\n",
      " 3   Ship Date       46261 non-null  datetime64[ns]\n",
      " 4   Ship Mode       46261 non-null  object        \n",
      " 5   Customer ID     46261 non-null  object        \n",
      " 6   Customer Name   46261 non-null  object        \n",
      " 7   Segment         46261 non-null  object        \n",
      " 8   City            46261 non-null  object        \n",
      " 9   State           46261 non-null  object        \n",
      " 10  Country         46261 non-null  object        \n",
      " 11  Postal Code     9994 non-null   float64       \n",
      " 12  Market          46261 non-null  object        \n",
      " 13  Region          46261 non-null  object        \n",
      " 14  Product ID      46261 non-null  object        \n",
      " 15  Category        46261 non-null  object        \n",
      " 16  Sub-Category    46261 non-null  object        \n",
      " 17  Product Name    46261 non-null  object        \n",
      " 18  Sales           46261 non-null  float64       \n",
      " 19  Quantity        46261 non-null  int64         \n",
      " 20  Discount        46261 non-null  float64       \n",
      " 21  Profit          46261 non-null  float64       \n",
      " 22  Shipping Cost   46261 non-null  float64       \n",
      " 23  Order Priority  46261 non-null  object        \n",
      " 24  Person          46261 non-null  object        \n",
      "dtypes: datetime64[ns](2), float64(5), int64(2), object(16)\n",
      "memory usage: 9.2+ MB\n",
      "None\n"
     ]
    }
   ],
   "source": [
    "print(orders.shape)\n",
    "print(orders.columns)\n",
    "print(orders.info())"
   ]
  },
  {
   "cell_type": "code",
   "execution_count": 5,
   "metadata": {},
   "outputs": [
    {
     "data": {
      "text/plain": [
       "Row ID                0\n",
       "Order ID              0\n",
       "Order Date            0\n",
       "Ship Date             0\n",
       "Ship Mode             0\n",
       "Customer ID           0\n",
       "Customer Name         0\n",
       "Segment               0\n",
       "City                  0\n",
       "State                 0\n",
       "Country               0\n",
       "Postal Code       36267\n",
       "Market                0\n",
       "Region                0\n",
       "Product ID            0\n",
       "Category              0\n",
       "Sub-Category          0\n",
       "Product Name          0\n",
       "Sales                 0\n",
       "Quantity              0\n",
       "Discount              0\n",
       "Profit                0\n",
       "Shipping Cost         0\n",
       "Order Priority        0\n",
       "Person                0\n",
       "dtype: int64"
      ]
     },
     "execution_count": 5,
     "metadata": {},
     "output_type": "execute_result"
    }
   ],
   "source": [
    "orders.isnull().sum()"
   ]
  },
  {
   "cell_type": "code",
   "execution_count": 6,
   "metadata": {},
   "outputs": [],
   "source": [
    "to_drop=['Postal Code','Row ID']\n",
    "orders.drop(columns=to_drop, inplace =True, axis=1)"
   ]
  },
  {
   "cell_type": "code",
   "execution_count": 7,
   "metadata": {
    "scrolled": true
   },
   "outputs": [
    {
     "data": {
      "text/html": [
       "<div>\n",
       "<style scoped>\n",
       "    .dataframe tbody tr th:only-of-type {\n",
       "        vertical-align: middle;\n",
       "    }\n",
       "\n",
       "    .dataframe tbody tr th {\n",
       "        vertical-align: top;\n",
       "    }\n",
       "\n",
       "    .dataframe thead th {\n",
       "        text-align: right;\n",
       "    }\n",
       "</style>\n",
       "<table border=\"1\" class=\"dataframe\">\n",
       "  <thead>\n",
       "    <tr style=\"text-align: right;\">\n",
       "      <th></th>\n",
       "      <th>Order ID</th>\n",
       "      <th>Order Date</th>\n",
       "      <th>Ship Date</th>\n",
       "      <th>Ship Mode</th>\n",
       "      <th>Customer ID</th>\n",
       "      <th>Customer Name</th>\n",
       "      <th>Segment</th>\n",
       "      <th>City</th>\n",
       "      <th>State</th>\n",
       "      <th>Country</th>\n",
       "      <th>...</th>\n",
       "      <th>Category</th>\n",
       "      <th>Sub-Category</th>\n",
       "      <th>Product Name</th>\n",
       "      <th>Sales</th>\n",
       "      <th>Quantity</th>\n",
       "      <th>Discount</th>\n",
       "      <th>Profit</th>\n",
       "      <th>Shipping Cost</th>\n",
       "      <th>Order Priority</th>\n",
       "      <th>Person</th>\n",
       "    </tr>\n",
       "  </thead>\n",
       "  <tbody>\n",
       "    <tr>\n",
       "      <th>0</th>\n",
       "      <td>CA-2012-124891</td>\n",
       "      <td>2012-07-31</td>\n",
       "      <td>2012-07-31</td>\n",
       "      <td>Same Day</td>\n",
       "      <td>RH-19495</td>\n",
       "      <td>Rick Hansen</td>\n",
       "      <td>Consumer</td>\n",
       "      <td>New York City</td>\n",
       "      <td>New York</td>\n",
       "      <td>United States</td>\n",
       "      <td>...</td>\n",
       "      <td>Technology</td>\n",
       "      <td>Accessories</td>\n",
       "      <td>Plantronics CS510 - Over-the-Head monaural Wir...</td>\n",
       "      <td>2309.650</td>\n",
       "      <td>7</td>\n",
       "      <td>0.0</td>\n",
       "      <td>762.1845</td>\n",
       "      <td>933.57</td>\n",
       "      <td>Critical</td>\n",
       "      <td>Kelly Williams</td>\n",
       "    </tr>\n",
       "    <tr>\n",
       "      <th>1</th>\n",
       "      <td>CA-2011-160766</td>\n",
       "      <td>2011-09-14</td>\n",
       "      <td>2011-09-14</td>\n",
       "      <td>Same Day</td>\n",
       "      <td>DM-13015</td>\n",
       "      <td>Darrin Martin</td>\n",
       "      <td>Consumer</td>\n",
       "      <td>New York City</td>\n",
       "      <td>New York</td>\n",
       "      <td>United States</td>\n",
       "      <td>...</td>\n",
       "      <td>Technology</td>\n",
       "      <td>Machines</td>\n",
       "      <td>Ativa V4110MDD Micro-Cut Shredder</td>\n",
       "      <td>2799.960</td>\n",
       "      <td>4</td>\n",
       "      <td>0.0</td>\n",
       "      <td>1371.9804</td>\n",
       "      <td>675.15</td>\n",
       "      <td>High</td>\n",
       "      <td>Kelly Williams</td>\n",
       "    </tr>\n",
       "    <tr>\n",
       "      <th>2</th>\n",
       "      <td>US-2012-163825</td>\n",
       "      <td>2012-06-16</td>\n",
       "      <td>2012-06-19</td>\n",
       "      <td>First Class</td>\n",
       "      <td>LC-16885</td>\n",
       "      <td>Lena Creighton</td>\n",
       "      <td>Consumer</td>\n",
       "      <td>New York City</td>\n",
       "      <td>New York</td>\n",
       "      <td>United States</td>\n",
       "      <td>...</td>\n",
       "      <td>Office Supplies</td>\n",
       "      <td>Binders</td>\n",
       "      <td>Fellowes PB500 Electric Punch Plastic Comb Bin...</td>\n",
       "      <td>3050.376</td>\n",
       "      <td>3</td>\n",
       "      <td>0.2</td>\n",
       "      <td>1143.8910</td>\n",
       "      <td>632.05</td>\n",
       "      <td>High</td>\n",
       "      <td>Kelly Williams</td>\n",
       "    </tr>\n",
       "    <tr>\n",
       "      <th>3</th>\n",
       "      <td>CA-2012-114811</td>\n",
       "      <td>2012-11-08</td>\n",
       "      <td>2012-11-08</td>\n",
       "      <td>Same Day</td>\n",
       "      <td>KD-16495</td>\n",
       "      <td>Keith Dawkins</td>\n",
       "      <td>Corporate</td>\n",
       "      <td>New York City</td>\n",
       "      <td>New York</td>\n",
       "      <td>United States</td>\n",
       "      <td>...</td>\n",
       "      <td>Technology</td>\n",
       "      <td>Machines</td>\n",
       "      <td>Zebra ZM400 Thermal Label Printer</td>\n",
       "      <td>4643.800</td>\n",
       "      <td>4</td>\n",
       "      <td>0.0</td>\n",
       "      <td>2229.0240</td>\n",
       "      <td>607.34</td>\n",
       "      <td>Medium</td>\n",
       "      <td>Kelly Williams</td>\n",
       "    </tr>\n",
       "    <tr>\n",
       "      <th>4</th>\n",
       "      <td>CA-2014-118892</td>\n",
       "      <td>2014-08-18</td>\n",
       "      <td>2014-08-23</td>\n",
       "      <td>Second Class</td>\n",
       "      <td>TP-21415</td>\n",
       "      <td>Tom Prescott</td>\n",
       "      <td>Consumer</td>\n",
       "      <td>Philadelphia</td>\n",
       "      <td>Pennsylvania</td>\n",
       "      <td>United States</td>\n",
       "      <td>...</td>\n",
       "      <td>Furniture</td>\n",
       "      <td>Chairs</td>\n",
       "      <td>HON 5400 Series Task Chairs for Big and Tall</td>\n",
       "      <td>4416.174</td>\n",
       "      <td>9</td>\n",
       "      <td>0.3</td>\n",
       "      <td>-630.8820</td>\n",
       "      <td>566.65</td>\n",
       "      <td>Medium</td>\n",
       "      <td>Kelly Williams</td>\n",
       "    </tr>\n",
       "    <tr>\n",
       "      <th>...</th>\n",
       "      <td>...</td>\n",
       "      <td>...</td>\n",
       "      <td>...</td>\n",
       "      <td>...</td>\n",
       "      <td>...</td>\n",
       "      <td>...</td>\n",
       "      <td>...</td>\n",
       "      <td>...</td>\n",
       "      <td>...</td>\n",
       "      <td>...</td>\n",
       "      <td>...</td>\n",
       "      <td>...</td>\n",
       "      <td>...</td>\n",
       "      <td>...</td>\n",
       "      <td>...</td>\n",
       "      <td>...</td>\n",
       "      <td>...</td>\n",
       "      <td>...</td>\n",
       "      <td>...</td>\n",
       "      <td>...</td>\n",
       "      <td>...</td>\n",
       "    </tr>\n",
       "    <tr>\n",
       "      <th>46256</th>\n",
       "      <td>CA-2014-1010</td>\n",
       "      <td>2014-08-06</td>\n",
       "      <td>2014-08-08</td>\n",
       "      <td>Second Class</td>\n",
       "      <td>DW-3585</td>\n",
       "      <td>Dorothy Wardle</td>\n",
       "      <td>Corporate</td>\n",
       "      <td>Richmond</td>\n",
       "      <td>British Columbia</td>\n",
       "      <td>Canada</td>\n",
       "      <td>...</td>\n",
       "      <td>Office Supplies</td>\n",
       "      <td>Binders</td>\n",
       "      <td>Avery Binder, Recycled</td>\n",
       "      <td>26.520</td>\n",
       "      <td>2</td>\n",
       "      <td>0.0</td>\n",
       "      <td>12.1800</td>\n",
       "      <td>0.39</td>\n",
       "      <td>High</td>\n",
       "      <td>Nicole Hansen</td>\n",
       "    </tr>\n",
       "    <tr>\n",
       "      <th>46257</th>\n",
       "      <td>CA-2011-3390</td>\n",
       "      <td>2011-09-21</td>\n",
       "      <td>2011-09-24</td>\n",
       "      <td>Second Class</td>\n",
       "      <td>AS-240</td>\n",
       "      <td>Alan Shonely</td>\n",
       "      <td>Consumer</td>\n",
       "      <td>Vaughan</td>\n",
       "      <td>Ontario</td>\n",
       "      <td>Canada</td>\n",
       "      <td>...</td>\n",
       "      <td>Office Supplies</td>\n",
       "      <td>Labels</td>\n",
       "      <td>Smead Round Labels, Adjustable</td>\n",
       "      <td>4.800</td>\n",
       "      <td>1</td>\n",
       "      <td>0.0</td>\n",
       "      <td>1.4400</td>\n",
       "      <td>0.35</td>\n",
       "      <td>Medium</td>\n",
       "      <td>Nicole Hansen</td>\n",
       "    </tr>\n",
       "    <tr>\n",
       "      <th>46258</th>\n",
       "      <td>CA-2012-490</td>\n",
       "      <td>2012-11-20</td>\n",
       "      <td>2012-11-26</td>\n",
       "      <td>Standard Class</td>\n",
       "      <td>JL-5235</td>\n",
       "      <td>Janet Lee</td>\n",
       "      <td>Consumer</td>\n",
       "      <td>Laval</td>\n",
       "      <td>Quebec</td>\n",
       "      <td>Canada</td>\n",
       "      <td>...</td>\n",
       "      <td>Office Supplies</td>\n",
       "      <td>Fasteners</td>\n",
       "      <td>Stockwell Paper Clips, Metal</td>\n",
       "      <td>12.930</td>\n",
       "      <td>1</td>\n",
       "      <td>0.0</td>\n",
       "      <td>0.3600</td>\n",
       "      <td>0.15</td>\n",
       "      <td>Medium</td>\n",
       "      <td>Nicole Hansen</td>\n",
       "    </tr>\n",
       "    <tr>\n",
       "      <th>46259</th>\n",
       "      <td>CA-2014-7630</td>\n",
       "      <td>2014-09-17</td>\n",
       "      <td>2014-09-21</td>\n",
       "      <td>Standard Class</td>\n",
       "      <td>KT-6465</td>\n",
       "      <td>Kean Takahito</td>\n",
       "      <td>Consumer</td>\n",
       "      <td>Mississauga</td>\n",
       "      <td>Ontario</td>\n",
       "      <td>Canada</td>\n",
       "      <td>...</td>\n",
       "      <td>Office Supplies</td>\n",
       "      <td>Binders</td>\n",
       "      <td>Ibico Hole Reinforcements, Economy</td>\n",
       "      <td>6.990</td>\n",
       "      <td>1</td>\n",
       "      <td>0.0</td>\n",
       "      <td>3.4200</td>\n",
       "      <td>0.15</td>\n",
       "      <td>Medium</td>\n",
       "      <td>Nicole Hansen</td>\n",
       "    </tr>\n",
       "    <tr>\n",
       "      <th>46260</th>\n",
       "      <td>CA-2014-6810</td>\n",
       "      <td>2014-12-23</td>\n",
       "      <td>2014-12-23</td>\n",
       "      <td>Same Day</td>\n",
       "      <td>VM-11835</td>\n",
       "      <td>Vivian Mathis</td>\n",
       "      <td>Consumer</td>\n",
       "      <td>Winnipeg</td>\n",
       "      <td>Manitoba</td>\n",
       "      <td>Canada</td>\n",
       "      <td>...</td>\n",
       "      <td>Office Supplies</td>\n",
       "      <td>Binders</td>\n",
       "      <td>Avery Index Tab, Durable</td>\n",
       "      <td>6.690</td>\n",
       "      <td>1</td>\n",
       "      <td>0.0</td>\n",
       "      <td>1.7100</td>\n",
       "      <td>0.04</td>\n",
       "      <td>Medium</td>\n",
       "      <td>Nicole Hansen</td>\n",
       "    </tr>\n",
       "  </tbody>\n",
       "</table>\n",
       "<p>46261 rows × 23 columns</p>\n",
       "</div>"
      ],
      "text/plain": [
       "             Order ID Order Date  Ship Date       Ship Mode Customer ID  \\\n",
       "0      CA-2012-124891 2012-07-31 2012-07-31        Same Day    RH-19495   \n",
       "1      CA-2011-160766 2011-09-14 2011-09-14        Same Day    DM-13015   \n",
       "2      US-2012-163825 2012-06-16 2012-06-19     First Class    LC-16885   \n",
       "3      CA-2012-114811 2012-11-08 2012-11-08        Same Day    KD-16495   \n",
       "4      CA-2014-118892 2014-08-18 2014-08-23    Second Class    TP-21415   \n",
       "...               ...        ...        ...             ...         ...   \n",
       "46256    CA-2014-1010 2014-08-06 2014-08-08    Second Class     DW-3585   \n",
       "46257    CA-2011-3390 2011-09-21 2011-09-24    Second Class      AS-240   \n",
       "46258     CA-2012-490 2012-11-20 2012-11-26  Standard Class     JL-5235   \n",
       "46259    CA-2014-7630 2014-09-17 2014-09-21  Standard Class     KT-6465   \n",
       "46260    CA-2014-6810 2014-12-23 2014-12-23        Same Day    VM-11835   \n",
       "\n",
       "        Customer Name    Segment           City             State  \\\n",
       "0         Rick Hansen   Consumer  New York City          New York   \n",
       "1       Darrin Martin   Consumer  New York City          New York   \n",
       "2      Lena Creighton   Consumer  New York City          New York   \n",
       "3       Keith Dawkins  Corporate  New York City          New York   \n",
       "4        Tom Prescott   Consumer   Philadelphia      Pennsylvania   \n",
       "...               ...        ...            ...               ...   \n",
       "46256  Dorothy Wardle  Corporate       Richmond  British Columbia   \n",
       "46257    Alan Shonely   Consumer        Vaughan           Ontario   \n",
       "46258       Janet Lee   Consumer          Laval            Quebec   \n",
       "46259   Kean Takahito   Consumer    Mississauga           Ontario   \n",
       "46260   Vivian Mathis   Consumer       Winnipeg          Manitoba   \n",
       "\n",
       "             Country  ...         Category Sub-Category  \\\n",
       "0      United States  ...       Technology  Accessories   \n",
       "1      United States  ...       Technology     Machines   \n",
       "2      United States  ...  Office Supplies      Binders   \n",
       "3      United States  ...       Technology     Machines   \n",
       "4      United States  ...        Furniture       Chairs   \n",
       "...              ...  ...              ...          ...   \n",
       "46256         Canada  ...  Office Supplies      Binders   \n",
       "46257         Canada  ...  Office Supplies       Labels   \n",
       "46258         Canada  ...  Office Supplies    Fasteners   \n",
       "46259         Canada  ...  Office Supplies      Binders   \n",
       "46260         Canada  ...  Office Supplies      Binders   \n",
       "\n",
       "                                            Product Name     Sales Quantity  \\\n",
       "0      Plantronics CS510 - Over-the-Head monaural Wir...  2309.650        7   \n",
       "1                      Ativa V4110MDD Micro-Cut Shredder  2799.960        4   \n",
       "2      Fellowes PB500 Electric Punch Plastic Comb Bin...  3050.376        3   \n",
       "3                      Zebra ZM400 Thermal Label Printer  4643.800        4   \n",
       "4           HON 5400 Series Task Chairs for Big and Tall  4416.174        9   \n",
       "...                                                  ...       ...      ...   \n",
       "46256                             Avery Binder, Recycled    26.520        2   \n",
       "46257                     Smead Round Labels, Adjustable     4.800        1   \n",
       "46258                       Stockwell Paper Clips, Metal    12.930        1   \n",
       "46259                 Ibico Hole Reinforcements, Economy     6.990        1   \n",
       "46260                           Avery Index Tab, Durable     6.690        1   \n",
       "\n",
       "      Discount     Profit  Shipping Cost  Order Priority          Person  \n",
       "0          0.0   762.1845         933.57        Critical  Kelly Williams  \n",
       "1          0.0  1371.9804         675.15            High  Kelly Williams  \n",
       "2          0.2  1143.8910         632.05            High  Kelly Williams  \n",
       "3          0.0  2229.0240         607.34          Medium  Kelly Williams  \n",
       "4          0.3  -630.8820         566.65          Medium  Kelly Williams  \n",
       "...        ...        ...            ...             ...             ...  \n",
       "46256      0.0    12.1800           0.39            High   Nicole Hansen  \n",
       "46257      0.0     1.4400           0.35          Medium   Nicole Hansen  \n",
       "46258      0.0     0.3600           0.15          Medium   Nicole Hansen  \n",
       "46259      0.0     3.4200           0.15          Medium   Nicole Hansen  \n",
       "46260      0.0     1.7100           0.04          Medium   Nicole Hansen  \n",
       "\n",
       "[46261 rows x 23 columns]"
      ]
     },
     "execution_count": 7,
     "metadata": {},
     "output_type": "execute_result"
    }
   ],
   "source": [
    "orders"
   ]
  },
  {
   "cell_type": "markdown",
   "metadata": {},
   "source": [
    "## PERFORMANCE ANALYSIS OF CATEGORIES/SUB CATEGORIES"
   ]
  },
  {
   "cell_type": "code",
   "execution_count": 8,
   "metadata": {},
   "outputs": [
    {
     "data": {
      "image/png": "[encoded data removed]",
      "text/plain": [
       "<Figure size 720x360 with 2 Axes>"
      ]
     },
     "metadata": {
      "needs_background": "light"
     },
     "output_type": "display_data"
    }
   ],
   "source": [
    "corrmat= orders.corr()\n",
    "plt.subplots(figsize=(10,5))\n",
    "_=plt.title('Heatmap for orders')\n",
    "_=sns.heatmap(corrmat, annot =True, cmap=\"YlGnBu\")\n",
    "plt.show()"
   ]
  },
  {
   "cell_type": "code",
   "execution_count": 9,
   "metadata": {},
   "outputs": [
    {
     "data": {
      "image/png": "[encoded data removed]",
      "text/plain": [
       "<Figure size 720x360 with 1 Axes>"
      ]
     },
     "metadata": {
      "needs_background": "light"
     },
     "output_type": "display_data"
    }
   ],
   "source": [
    "plt.subplots(figsize=(10,5))\n",
    "_=sns.scatterplot(x='Sales', y='Shipping Cost', hue='Category', data=orders)\n",
    "plt.show()"
   ]
  },
  {
   "cell_type": "code",
   "execution_count": 10,
   "metadata": {},
   "outputs": [
    {
     "data": {
      "text/plain": [
       "array(['Technology', 'Office Supplies', 'Furniture'], dtype=object)"
      ]
     },
     "execution_count": 10,
     "metadata": {},
     "output_type": "execute_result"
    }
   ],
   "source": [
    "orders['Category'].unique()"
   ]
  },
  {
   "cell_type": "code",
   "execution_count": 11,
   "metadata": {},
   "outputs": [
    {
     "data": {
      "text/plain": [
       "Office Supplies    27976\n",
       "Technology          9179\n",
       "Furniture           9106\n",
       "Name: Category, dtype: int64"
      ]
     },
     "execution_count": 11,
     "metadata": {},
     "output_type": "execute_result"
    }
   ],
   "source": [
    "orders['Category'].value_counts()"
   ]
  },
  {
   "cell_type": "code",
   "execution_count": 12,
   "metadata": {},
   "outputs": [
    {
     "data": {
      "text/plain": [
       "17"
      ]
     },
     "execution_count": 12,
     "metadata": {},
     "output_type": "execute_result"
    }
   ],
   "source": [
    "orders['Sub-Category'].nunique()"
   ]
  },
  {
   "cell_type": "code",
   "execution_count": 13,
   "metadata": {},
   "outputs": [
    {
     "data": {
      "text/plain": [
       "Binders        5457\n",
       "Storage        4416\n",
       "Art            4187\n",
       "Paper          3332\n",
       "Chairs         3184\n",
       "Phones         3062\n",
       "Furnishings    2917\n",
       "Accessories    2835\n",
       "Labels         2393\n",
       "Envelopes      2204\n",
       "Supplies       2200\n",
       "Bookcases      2189\n",
       "Fasteners      2186\n",
       "Copiers        2033\n",
       "Appliances     1601\n",
       "Machines       1249\n",
       "Tables          816\n",
       "Name: Sub-Category, dtype: int64"
      ]
     },
     "execution_count": 13,
     "metadata": {},
     "output_type": "execute_result"
    }
   ],
   "source": [
    "orders['Sub-Category'].value_counts()"
   ]
  },
  {
   "cell_type": "code",
   "execution_count": 14,
   "metadata": {},
   "outputs": [
    {
     "name": "stderr",
     "output_type": "stream",
     "text": [
      "<ipython-input-14-2c410c1f019a>:2: FutureWarning: Indexing with multiple keys (implicitly converted to a tuple of keys) will be deprecated, use a list instead.\n",
      "  orders.groupby('Category')['Profit','Sales'].agg(['sum']).plot.bar()\n"
     ]
    },
    {
     "data": {
      "image/png": "[encoded data removed]",
      "text/plain": [
       "<Figure size 1080x720 with 1 Axes>"
      ]
     },
     "metadata": {
      "needs_background": "light"
     },
     "output_type": "display_data"
    }
   ],
   "source": [
    "plt.rcParams[\"figure.figsize\"]=15,10\n",
    "orders.groupby('Category')['Profit','Sales'].agg(['sum']).plot.bar()\n",
    "plt.title('Total Profit and Sales per Sub-Category')\n",
    "plt.legend(loc=2)\n",
    "plt.show()"
   ]
  },
  {
   "cell_type": "code",
   "execution_count": 15,
   "metadata": {},
   "outputs": [
    {
     "name": "stderr",
     "output_type": "stream",
     "text": [
      "<ipython-input-15-8569f3bf5652>:2: FutureWarning: Indexing with multiple keys (implicitly converted to a tuple of keys) will be deprecated, use a list instead.\n",
      "  orders.groupby('Sub-Category')['Profit','Sales'].agg(['sum']).plot.bar()\n"
     ]
    },
    {
     "data": {
      "image/png": "[encoded data removed]",
      "text/plain": [
       "<Figure size 1080x720 with 1 Axes>"
      ]
     },
     "metadata": {
      "needs_background": "light"
     },
     "output_type": "display_data"
    }
   ],
   "source": [
    "plt.rcParams[\"figure.figsize\"]=15,10\n",
    "orders.groupby('Sub-Category')['Profit','Sales'].agg(['sum']).plot.bar()\n",
    "plt.title('Total Profit and Sales per Sub-Category')\n",
    "plt.legend(loc=2)\n",
    "plt.show()"
   ]
  },
  {
   "cell_type": "markdown",
   "metadata": {},
   "source": [
    "As seen above in the plot, tables have not been performing very well."
   ]
  },
  {
   "cell_type": "markdown",
   "metadata": {},
   "source": [
    "## SALES REVENUE AND PROFIT ANALYSIS FOR TOP COUNTRY/ REGION"
   ]
  },
  {
   "cell_type": "code",
   "execution_count": 16,
   "metadata": {},
   "outputs": [
    {
     "data": {
      "text/plain": [
       "array(['United States', 'Australia', 'New Zealand', 'Papua New Guinea',\n",
       "       'Germany', 'France', 'El Salvador', 'Nicaragua', 'Austria',\n",
       "       'Netherlands', 'Guatemala', 'Belgium', 'Switzerland', 'Honduras',\n",
       "       'Panama', 'Senegal', 'Tanzania',\n",
       "       'Democratic Republic of the Congo', 'Mozambique', 'Morocco',\n",
       "       'Somalia', 'South Africa', 'Egypt', 'Lesotho', 'Cameroon',\n",
       "       'Angola', 'Ghana', 'Zambia', 'Liberia', 'Chad', 'Namibia',\n",
       "       'Madagascar', 'Republic of the Congo', 'Algeria', 'Nigeria',\n",
       "       \"Cote d'Ivoire\", 'Central African Republic', 'Benin', 'Kenya',\n",
       "       'Mali', 'Libya', 'Togo', 'Mauritania', 'Guinea', 'Rwanda', 'Niger',\n",
       "       'Sudan', 'Sierra Leone', 'Guinea-Bissau', 'Djibouti', 'Tunisia',\n",
       "       'Zimbabwe', 'South Sudan', 'Gabon', 'Swaziland', 'Ethiopia',\n",
       "       'Uganda', 'Burundi', 'Eritrea', 'Equatorial Guinea', 'Brazil',\n",
       "       'Italy', 'Uruguay', 'Spain', 'Colombia', 'Ecuador', 'Argentina',\n",
       "       'Portugal', 'Paraguay', 'Bolivia', 'Chile', 'Venezuela', 'Peru',\n",
       "       'Afghanistan', 'India', 'Bangladesh', 'Pakistan', 'Nepal',\n",
       "       'Sri Lanka', 'China', 'Taiwan', 'Japan', 'South Korea',\n",
       "       'Hong Kong', 'Mongolia', 'United Kingdom', 'Mexico', 'Finland',\n",
       "       'Sweden', 'Norway', 'Ireland', 'Denmark', 'Dominican Republic',\n",
       "       'Cuba', 'Jamaica', 'Martinique', 'Trinidad and Tobago', 'Haiti',\n",
       "       'Barbados', 'Guadeloupe', 'Indonesia', 'Philippines', 'Malaysia',\n",
       "       'Thailand', 'Cambodia', 'Vietnam', 'Singapore', 'Myanmar (Burma)',\n",
       "       'Canada'], dtype=object)"
      ]
     },
     "execution_count": 16,
     "metadata": {},
     "output_type": "execute_result"
    }
   ],
   "source": [
    "orders['Country'].unique()"
   ]
  },
  {
   "cell_type": "code",
   "execution_count": 17,
   "metadata": {},
   "outputs": [
    {
     "data": {
      "text/plain": [
       "109"
      ]
     },
     "execution_count": 17,
     "metadata": {},
     "output_type": "execute_result"
    }
   ],
   "source": [
    "orders['Country'].nunique()"
   ]
  },
  {
   "cell_type": "code",
   "execution_count": 18,
   "metadata": {},
   "outputs": [
    {
     "data": {
      "text/plain": [
       "United States     9994\n",
       "Australia         2837\n",
       "France            2827\n",
       "Mexico            2644\n",
       "Germany           2065\n",
       "China             1880\n",
       "United Kingdom    1633\n",
       "Brazil            1599\n",
       "India             1555\n",
       "Indonesia         1390\n",
       "Name: Country, dtype: int64"
      ]
     },
     "execution_count": 18,
     "metadata": {},
     "output_type": "execute_result"
    }
   ],
   "source": [
    "orders['Country'].value_counts().nlargest(10)"
   ]
  },
  {
   "cell_type": "code",
   "execution_count": 19,
   "metadata": {},
   "outputs": [
    {
     "data": {
      "text/html": [
       "<div>\n",
       "<style scoped>\n",
       "    .dataframe tbody tr th:only-of-type {\n",
       "        vertical-align: middle;\n",
       "    }\n",
       "\n",
       "    .dataframe tbody tr th {\n",
       "        vertical-align: top;\n",
       "    }\n",
       "\n",
       "    .dataframe thead th {\n",
       "        text-align: right;\n",
       "    }\n",
       "</style>\n",
       "<table border=\"1\" class=\"dataframe\">\n",
       "  <thead>\n",
       "    <tr style=\"text-align: right;\">\n",
       "      <th></th>\n",
       "      <th>Order ID</th>\n",
       "      <th>Order Date</th>\n",
       "      <th>Ship Date</th>\n",
       "      <th>Ship Mode</th>\n",
       "      <th>Customer ID</th>\n",
       "      <th>Customer Name</th>\n",
       "      <th>Segment</th>\n",
       "      <th>City</th>\n",
       "      <th>State</th>\n",
       "      <th>Country</th>\n",
       "      <th>...</th>\n",
       "      <th>Category</th>\n",
       "      <th>Sub-Category</th>\n",
       "      <th>Product Name</th>\n",
       "      <th>Sales</th>\n",
       "      <th>Quantity</th>\n",
       "      <th>Discount</th>\n",
       "      <th>Profit</th>\n",
       "      <th>Shipping Cost</th>\n",
       "      <th>Order Priority</th>\n",
       "      <th>Person</th>\n",
       "    </tr>\n",
       "  </thead>\n",
       "  <tbody>\n",
       "    <tr>\n",
       "      <th>0</th>\n",
       "      <td>CA-2012-124891</td>\n",
       "      <td>2012-07-31</td>\n",
       "      <td>2012-07-31</td>\n",
       "      <td>Same Day</td>\n",
       "      <td>RH-19495</td>\n",
       "      <td>Rick Hansen</td>\n",
       "      <td>Consumer</td>\n",
       "      <td>New York City</td>\n",
       "      <td>New York</td>\n",
       "      <td>United States</td>\n",
       "      <td>...</td>\n",
       "      <td>Technology</td>\n",
       "      <td>Accessories</td>\n",
       "      <td>Plantronics CS510 - Over-the-Head monaural Wir...</td>\n",
       "      <td>2309.650</td>\n",
       "      <td>7</td>\n",
       "      <td>0.0</td>\n",
       "      <td>762.1845</td>\n",
       "      <td>933.57</td>\n",
       "      <td>Critical</td>\n",
       "      <td>Kelly Williams</td>\n",
       "    </tr>\n",
       "    <tr>\n",
       "      <th>1</th>\n",
       "      <td>CA-2011-160766</td>\n",
       "      <td>2011-09-14</td>\n",
       "      <td>2011-09-14</td>\n",
       "      <td>Same Day</td>\n",
       "      <td>DM-13015</td>\n",
       "      <td>Darrin Martin</td>\n",
       "      <td>Consumer</td>\n",
       "      <td>New York City</td>\n",
       "      <td>New York</td>\n",
       "      <td>United States</td>\n",
       "      <td>...</td>\n",
       "      <td>Technology</td>\n",
       "      <td>Machines</td>\n",
       "      <td>Ativa V4110MDD Micro-Cut Shredder</td>\n",
       "      <td>2799.960</td>\n",
       "      <td>4</td>\n",
       "      <td>0.0</td>\n",
       "      <td>1371.9804</td>\n",
       "      <td>675.15</td>\n",
       "      <td>High</td>\n",
       "      <td>Kelly Williams</td>\n",
       "    </tr>\n",
       "    <tr>\n",
       "      <th>2</th>\n",
       "      <td>US-2012-163825</td>\n",
       "      <td>2012-06-16</td>\n",
       "      <td>2012-06-19</td>\n",
       "      <td>First Class</td>\n",
       "      <td>LC-16885</td>\n",
       "      <td>Lena Creighton</td>\n",
       "      <td>Consumer</td>\n",
       "      <td>New York City</td>\n",
       "      <td>New York</td>\n",
       "      <td>United States</td>\n",
       "      <td>...</td>\n",
       "      <td>Office Supplies</td>\n",
       "      <td>Binders</td>\n",
       "      <td>Fellowes PB500 Electric Punch Plastic Comb Bin...</td>\n",
       "      <td>3050.376</td>\n",
       "      <td>3</td>\n",
       "      <td>0.2</td>\n",
       "      <td>1143.8910</td>\n",
       "      <td>632.05</td>\n",
       "      <td>High</td>\n",
       "      <td>Kelly Williams</td>\n",
       "    </tr>\n",
       "    <tr>\n",
       "      <th>3</th>\n",
       "      <td>CA-2012-114811</td>\n",
       "      <td>2012-11-08</td>\n",
       "      <td>2012-11-08</td>\n",
       "      <td>Same Day</td>\n",
       "      <td>KD-16495</td>\n",
       "      <td>Keith Dawkins</td>\n",
       "      <td>Corporate</td>\n",
       "      <td>New York City</td>\n",
       "      <td>New York</td>\n",
       "      <td>United States</td>\n",
       "      <td>...</td>\n",
       "      <td>Technology</td>\n",
       "      <td>Machines</td>\n",
       "      <td>Zebra ZM400 Thermal Label Printer</td>\n",
       "      <td>4643.800</td>\n",
       "      <td>4</td>\n",
       "      <td>0.0</td>\n",
       "      <td>2229.0240</td>\n",
       "      <td>607.34</td>\n",
       "      <td>Medium</td>\n",
       "      <td>Kelly Williams</td>\n",
       "    </tr>\n",
       "    <tr>\n",
       "      <th>4</th>\n",
       "      <td>CA-2014-118892</td>\n",
       "      <td>2014-08-18</td>\n",
       "      <td>2014-08-23</td>\n",
       "      <td>Second Class</td>\n",
       "      <td>TP-21415</td>\n",
       "      <td>Tom Prescott</td>\n",
       "      <td>Consumer</td>\n",
       "      <td>Philadelphia</td>\n",
       "      <td>Pennsylvania</td>\n",
       "      <td>United States</td>\n",
       "      <td>...</td>\n",
       "      <td>Furniture</td>\n",
       "      <td>Chairs</td>\n",
       "      <td>HON 5400 Series Task Chairs for Big and Tall</td>\n",
       "      <td>4416.174</td>\n",
       "      <td>9</td>\n",
       "      <td>0.3</td>\n",
       "      <td>-630.8820</td>\n",
       "      <td>566.65</td>\n",
       "      <td>Medium</td>\n",
       "      <td>Kelly Williams</td>\n",
       "    </tr>\n",
       "    <tr>\n",
       "      <th>...</th>\n",
       "      <td>...</td>\n",
       "      <td>...</td>\n",
       "      <td>...</td>\n",
       "      <td>...</td>\n",
       "      <td>...</td>\n",
       "      <td>...</td>\n",
       "      <td>...</td>\n",
       "      <td>...</td>\n",
       "      <td>...</td>\n",
       "      <td>...</td>\n",
       "      <td>...</td>\n",
       "      <td>...</td>\n",
       "      <td>...</td>\n",
       "      <td>...</td>\n",
       "      <td>...</td>\n",
       "      <td>...</td>\n",
       "      <td>...</td>\n",
       "      <td>...</td>\n",
       "      <td>...</td>\n",
       "      <td>...</td>\n",
       "      <td>...</td>\n",
       "    </tr>\n",
       "    <tr>\n",
       "      <th>31875</th>\n",
       "      <td>CA-2014-130834</td>\n",
       "      <td>2014-11-04</td>\n",
       "      <td>2014-11-07</td>\n",
       "      <td>Second Class</td>\n",
       "      <td>JM-16195</td>\n",
       "      <td>Justin MacKendrick</td>\n",
       "      <td>Consumer</td>\n",
       "      <td>Wilmington</td>\n",
       "      <td>North Carolina</td>\n",
       "      <td>United States</td>\n",
       "      <td>...</td>\n",
       "      <td>Office Supplies</td>\n",
       "      <td>Paper</td>\n",
       "      <td>Strathmore Photo Mount Cards</td>\n",
       "      <td>16.272</td>\n",
       "      <td>3</td>\n",
       "      <td>0.2</td>\n",
       "      <td>5.2884</td>\n",
       "      <td>0.09</td>\n",
       "      <td>Medium</td>\n",
       "      <td>Chuck Magee</td>\n",
       "    </tr>\n",
       "    <tr>\n",
       "      <th>31877</th>\n",
       "      <td>CA-2011-112718</td>\n",
       "      <td>2011-12-16</td>\n",
       "      <td>2011-12-21</td>\n",
       "      <td>Standard Class</td>\n",
       "      <td>KN-16450</td>\n",
       "      <td>Kean Nguyen</td>\n",
       "      <td>Corporate</td>\n",
       "      <td>Jacksonville</td>\n",
       "      <td>Florida</td>\n",
       "      <td>United States</td>\n",
       "      <td>...</td>\n",
       "      <td>Office Supplies</td>\n",
       "      <td>Binders</td>\n",
       "      <td>Avery Binder Labels</td>\n",
       "      <td>1.167</td>\n",
       "      <td>1</td>\n",
       "      <td>0.7</td>\n",
       "      <td>-0.8558</td>\n",
       "      <td>0.07</td>\n",
       "      <td>Medium</td>\n",
       "      <td>Chuck Magee</td>\n",
       "    </tr>\n",
       "    <tr>\n",
       "      <th>31879</th>\n",
       "      <td>US-2014-158526</td>\n",
       "      <td>2014-12-30</td>\n",
       "      <td>2015-01-02</td>\n",
       "      <td>Second Class</td>\n",
       "      <td>KH-16360</td>\n",
       "      <td>Katherine Hughes</td>\n",
       "      <td>Consumer</td>\n",
       "      <td>Louisville</td>\n",
       "      <td>Kentucky</td>\n",
       "      <td>United States</td>\n",
       "      <td>...</td>\n",
       "      <td>Office Supplies</td>\n",
       "      <td>Binders</td>\n",
       "      <td>GBC ProClick Spines for 32-Hole Punch</td>\n",
       "      <td>12.530</td>\n",
       "      <td>1</td>\n",
       "      <td>0.0</td>\n",
       "      <td>5.8891</td>\n",
       "      <td>0.06</td>\n",
       "      <td>Medium</td>\n",
       "      <td>Chuck Magee</td>\n",
       "    </tr>\n",
       "    <tr>\n",
       "      <th>31881</th>\n",
       "      <td>US-2013-161844</td>\n",
       "      <td>2013-12-10</td>\n",
       "      <td>2013-12-15</td>\n",
       "      <td>Second Class</td>\n",
       "      <td>DK-12835</td>\n",
       "      <td>Damala Kotsonis</td>\n",
       "      <td>Corporate</td>\n",
       "      <td>Franklin</td>\n",
       "      <td>Tennessee</td>\n",
       "      <td>United States</td>\n",
       "      <td>...</td>\n",
       "      <td>Office Supplies</td>\n",
       "      <td>Binders</td>\n",
       "      <td>Acco Pressboard Covers with Storage Hooks, 14 ...</td>\n",
       "      <td>2.946</td>\n",
       "      <td>2</td>\n",
       "      <td>0.7</td>\n",
       "      <td>-2.0622</td>\n",
       "      <td>0.05</td>\n",
       "      <td>Medium</td>\n",
       "      <td>Chuck Magee</td>\n",
       "    </tr>\n",
       "    <tr>\n",
       "      <th>31883</th>\n",
       "      <td>US-2013-167472</td>\n",
       "      <td>2013-06-07</td>\n",
       "      <td>2013-06-08</td>\n",
       "      <td>First Class</td>\n",
       "      <td>CK-12595</td>\n",
       "      <td>Clytie Kelty</td>\n",
       "      <td>Consumer</td>\n",
       "      <td>Little Rock</td>\n",
       "      <td>Arkansas</td>\n",
       "      <td>United States</td>\n",
       "      <td>...</td>\n",
       "      <td>Office Supplies</td>\n",
       "      <td>Paper</td>\n",
       "      <td>Xerox 230</td>\n",
       "      <td>12.960</td>\n",
       "      <td>2</td>\n",
       "      <td>0.0</td>\n",
       "      <td>6.2208</td>\n",
       "      <td>0.03</td>\n",
       "      <td>High</td>\n",
       "      <td>Chuck Magee</td>\n",
       "    </tr>\n",
       "  </tbody>\n",
       "</table>\n",
       "<p>9994 rows × 23 columns</p>\n",
       "</div>"
      ],
      "text/plain": [
       "             Order ID Order Date  Ship Date       Ship Mode Customer ID  \\\n",
       "0      CA-2012-124891 2012-07-31 2012-07-31        Same Day    RH-19495   \n",
       "1      CA-2011-160766 2011-09-14 2011-09-14        Same Day    DM-13015   \n",
       "2      US-2012-163825 2012-06-16 2012-06-19     First Class    LC-16885   \n",
       "3      CA-2012-114811 2012-11-08 2012-11-08        Same Day    KD-16495   \n",
       "4      CA-2014-118892 2014-08-18 2014-08-23    Second Class    TP-21415   \n",
       "...               ...        ...        ...             ...         ...   \n",
       "31875  CA-2014-130834 2014-11-04 2014-11-07    Second Class    JM-16195   \n",
       "31877  CA-2011-112718 2011-12-16 2011-12-21  Standard Class    KN-16450   \n",
       "31879  US-2014-158526 2014-12-30 2015-01-02    Second Class    KH-16360   \n",
       "31881  US-2013-161844 2013-12-10 2013-12-15    Second Class    DK-12835   \n",
       "31883  US-2013-167472 2013-06-07 2013-06-08     First Class    CK-12595   \n",
       "\n",
       "            Customer Name    Segment           City           State  \\\n",
       "0             Rick Hansen   Consumer  New York City        New York   \n",
       "1           Darrin Martin   Consumer  New York City        New York   \n",
       "2          Lena Creighton   Consumer  New York City        New York   \n",
       "3           Keith Dawkins  Corporate  New York City        New York   \n",
       "4            Tom Prescott   Consumer   Philadelphia    Pennsylvania   \n",
       "...                   ...        ...            ...             ...   \n",
       "31875  Justin MacKendrick   Consumer     Wilmington  North Carolina   \n",
       "31877         Kean Nguyen  Corporate   Jacksonville         Florida   \n",
       "31879    Katherine Hughes   Consumer     Louisville        Kentucky   \n",
       "31881     Damala Kotsonis  Corporate       Franklin       Tennessee   \n",
       "31883        Clytie Kelty   Consumer    Little Rock        Arkansas   \n",
       "\n",
       "             Country  ...         Category Sub-Category  \\\n",
       "0      United States  ...       Technology  Accessories   \n",
       "1      United States  ...       Technology     Machines   \n",
       "2      United States  ...  Office Supplies      Binders   \n",
       "3      United States  ...       Technology     Machines   \n",
       "4      United States  ...        Furniture       Chairs   \n",
       "...              ...  ...              ...          ...   \n",
       "31875  United States  ...  Office Supplies        Paper   \n",
       "31877  United States  ...  Office Supplies      Binders   \n",
       "31879  United States  ...  Office Supplies      Binders   \n",
       "31881  United States  ...  Office Supplies      Binders   \n",
       "31883  United States  ...  Office Supplies        Paper   \n",
       "\n",
       "                                            Product Name     Sales Quantity  \\\n",
       "0      Plantronics CS510 - Over-the-Head monaural Wir...  2309.650        7   \n",
       "1                      Ativa V4110MDD Micro-Cut Shredder  2799.960        4   \n",
       "2      Fellowes PB500 Electric Punch Plastic Comb Bin...  3050.376        3   \n",
       "3                      Zebra ZM400 Thermal Label Printer  4643.800        4   \n",
       "4           HON 5400 Series Task Chairs for Big and Tall  4416.174        9   \n",
       "...                                                  ...       ...      ...   \n",
       "31875                       Strathmore Photo Mount Cards    16.272        3   \n",
       "31877                                Avery Binder Labels     1.167        1   \n",
       "31879              GBC ProClick Spines for 32-Hole Punch    12.530        1   \n",
       "31881  Acco Pressboard Covers with Storage Hooks, 14 ...     2.946        2   \n",
       "31883                                          Xerox 230    12.960        2   \n",
       "\n",
       "      Discount     Profit  Shipping Cost  Order Priority          Person  \n",
       "0          0.0   762.1845         933.57        Critical  Kelly Williams  \n",
       "1          0.0  1371.9804         675.15            High  Kelly Williams  \n",
       "2          0.2  1143.8910         632.05            High  Kelly Williams  \n",
       "3          0.0  2229.0240         607.34          Medium  Kelly Williams  \n",
       "4          0.3  -630.8820         566.65          Medium  Kelly Williams  \n",
       "...        ...        ...            ...             ...             ...  \n",
       "31875      0.2     5.2884           0.09          Medium     Chuck Magee  \n",
       "31877      0.7    -0.8558           0.07          Medium     Chuck Magee  \n",
       "31879      0.0     5.8891           0.06          Medium     Chuck Magee  \n",
       "31881      0.7    -2.0622           0.05          Medium     Chuck Magee  \n",
       "31883      0.0     6.2208           0.03            High     Chuck Magee  \n",
       "\n",
       "[9994 rows x 23 columns]"
      ]
     },
     "execution_count": 19,
     "metadata": {},
     "output_type": "execute_result"
    }
   ],
   "source": [
    "USA = orders['Country']=='United States'\n",
    "USA = orders[USA]\n",
    "USA"
   ]
  },
  {
   "cell_type": "code",
   "execution_count": 20,
   "metadata": {},
   "outputs": [
    {
     "data": {
      "text/plain": [
       "49"
      ]
     },
     "execution_count": 20,
     "metadata": {},
     "output_type": "execute_result"
    }
   ],
   "source": [
    "USA['State'].nunique()"
   ]
  },
  {
   "cell_type": "code",
   "execution_count": 21,
   "metadata": {},
   "outputs": [
    {
     "data": {
      "text/plain": [
       "California              2001\n",
       "New York                1128\n",
       "Texas                    985\n",
       "Pennsylvania             587\n",
       "Washington               506\n",
       "Illinois                 492\n",
       "Ohio                     469\n",
       "Florida                  383\n",
       "Michigan                 255\n",
       "North Carolina           249\n",
       "Virginia                 224\n",
       "Arizona                  224\n",
       "Georgia                  184\n",
       "Tennessee                183\n",
       "Colorado                 182\n",
       "Indiana                  149\n",
       "Kentucky                 139\n",
       "Massachusetts            135\n",
       "New Jersey               130\n",
       "Oregon                   124\n",
       "Wisconsin                110\n",
       "Maryland                 105\n",
       "Delaware                  96\n",
       "Minnesota                 89\n",
       "Connecticut               82\n",
       "Oklahoma                  66\n",
       "Missouri                  66\n",
       "Alabama                   61\n",
       "Arkansas                  60\n",
       "Rhode Island              56\n",
       "Utah                      53\n",
       "Mississippi               53\n",
       "Louisiana                 42\n",
       "South Carolina            42\n",
       "Nevada                    39\n",
       "Nebraska                  38\n",
       "New Mexico                37\n",
       "Iowa                      30\n",
       "New Hampshire             27\n",
       "Kansas                    24\n",
       "Idaho                     21\n",
       "Montana                   15\n",
       "South Dakota              12\n",
       "Vermont                   11\n",
       "District of Columbia      10\n",
       "Maine                      8\n",
       "North Dakota               7\n",
       "West Virginia              4\n",
       "Wyoming                    1\n",
       "Name: State, dtype: int64"
      ]
     },
     "execution_count": 21,
     "metadata": {},
     "output_type": "execute_result"
    }
   ],
   "source": [
    "USA['State'].value_counts()"
   ]
  },
  {
   "cell_type": "code",
   "execution_count": 22,
   "metadata": {},
   "outputs": [
    {
     "data": {
      "text/plain": [
       "New York City    915\n",
       "Los Angeles      747\n",
       "Philadelphia     537\n",
       "San Francisco    510\n",
       "Seattle          428\n",
       "Name: City, dtype: int64"
      ]
     },
     "execution_count": 22,
     "metadata": {},
     "output_type": "execute_result"
    }
   ],
   "source": [
    "USA['City'].value_counts().nlargest()"
   ]
  },
  {
   "cell_type": "code",
   "execution_count": 23,
   "metadata": {},
   "outputs": [
    {
     "name": "stdout",
     "output_type": "stream",
     "text": [
      "Wyoming\n"
     ]
    }
   ],
   "source": [
    "print(USA['State'].max())"
   ]
  },
  {
   "cell_type": "code",
   "execution_count": 35,
   "metadata": {},
   "outputs": [
    {
     "data": {
      "text/plain": [
       "([0,\n",
       "  1,\n",
       "  2,\n",
       "  3,\n",
       "  4,\n",
       "  5,\n",
       "  6,\n",
       "  7,\n",
       "  8,\n",
       "  9,\n",
       "  10,\n",
       "  11,\n",
       "  12,\n",
       "  13,\n",
       "  14,\n",
       "  15,\n",
       "  16,\n",
       "  17,\n",
       "  18,\n",
       "  19,\n",
       "  20,\n",
       "  21,\n",
       "  22,\n",
       "  23,\n",
       "  24,\n",
       "  25,\n",
       "  26,\n",
       "  27,\n",
       "  28,\n",
       "  29,\n",
       "  30,\n",
       "  31,\n",
       "  32,\n",
       "  33,\n",
       "  34,\n",
       "  35,\n",
       "  36,\n",
       "  37,\n",
       "  38,\n",
       "  39,\n",
       "  40,\n",
       "  41,\n",
       "  42,\n",
       "  43,\n",
       "  44,\n",
       "  45,\n",
       "  46,\n",
       "  47,\n",
       "  48],\n",
       " <a list of 49 Text major ticklabel objects>)"
      ]
     },
     "execution_count": 35,
     "metadata": {},
     "output_type": "execute_result"
    },
    {
     "data": {
      "image/png": "[encoded data removed]",
      "text/plain": [
       "<Figure size 1440x720 with 1 Axes>"
      ]
     },
     "metadata": {
      "needs_background": "light"
     },
     "output_type": "display_data"
    }
   ],
   "source": [
    "plt.rcParams[\"figure.figsize\"]=20,10\n",
    "#_= sns.barplot(x=\"State\", y=\"Sales\", data=USA)\n",
    "_= plt.bar(x='State',height= 'Sales', align='center', data=USA)\n",
    "plt.title('Sales Revenue by states of USA', fontsize= 20)\n",
    "plt.ylabel('Sales Revenue', fontsize= 20)\n",
    "plt.xlabel('States', fontsize=20)\n",
    "plt.xticks(rotation=60)"
   ]
  },
  {
   "cell_type": "markdown",
   "metadata": {},
   "source": [
    "## SHIPPING COST ANALYSIS"
   ]
  },
  {
   "cell_type": "code",
   "execution_count": 25,
   "metadata": {},
   "outputs": [
    {
     "data": {
      "text/plain": [
       "Medium      26534\n",
       "High        13995\n",
       "Critical     3544\n",
       "Low          2188\n",
       "Name: Order Priority, dtype: int64"
      ]
     },
     "execution_count": 25,
     "metadata": {},
     "output_type": "execute_result"
    }
   ],
   "source": [
    "orders['Order Priority'].value_counts()"
   ]
  },
  {
   "cell_type": "code",
   "execution_count": 26,
   "metadata": {},
   "outputs": [
    {
     "data": {
      "text/plain": [
       "Standard Class    27739\n",
       "Second Class       9316\n",
       "First Class        6805\n",
       "Same Day           2401\n",
       "Name: Ship Mode, dtype: int64"
      ]
     },
     "execution_count": 26,
     "metadata": {},
     "output_type": "execute_result"
    }
   ],
   "source": [
    "orders['Ship Mode'].value_counts()"
   ]
  },
  {
   "cell_type": "code",
   "execution_count": 27,
   "metadata": {
    "scrolled": true
   },
   "outputs": [
    {
     "data": {
      "text/plain": [
       "Text(0.5, 1.0, 'Shipping Cost wrt Order Priority')"
      ]
     },
     "execution_count": 27,
     "metadata": {},
     "output_type": "execute_result"
    },
    {
     "data": {
      "image/png": "[encoded data removed]",
      "text/plain": [
       "<Figure size 720x360 with 1 Axes>"
      ]
     },
     "metadata": {
      "needs_background": "light"
     },
     "output_type": "display_data"
    }
   ],
   "source": [
    "plt.rcParams[\"figure.figsize\"]=10,5\n",
    "_= sns.barplot(x=\"Order Priority\", y=\"Shipping Cost\", data=USA)\n",
    "plt.title('Shipping Cost wrt Order Priority')"
   ]
  },
  {
   "cell_type": "code",
   "execution_count": 28,
   "metadata": {},
   "outputs": [
    {
     "data": {
      "text/plain": [
       "Text(0.5, 1.0, 'Shipping Cost wrt Ship Mode')"
      ]
     },
     "execution_count": 28,
     "metadata": {},
     "output_type": "execute_result"
    },
    {
     "data": {
      "image/png": "[encoded data removed]",
      "text/plain": [
       "<Figure size 720x360 with 1 Axes>"
      ]
     },
     "metadata": {
      "needs_background": "light"
     },
     "output_type": "display_data"
    }
   ],
   "source": [
    "plt.rcParams[\"figure.figsize\"]=10,5\n",
    "_= sns.barplot(x=\"Ship Mode\", y=\"Shipping Cost\", data=USA)\n",
    "plt.title('Shipping Cost wrt Ship Mode')"
   ]
  },
  {
   "cell_type": "code",
   "execution_count": 29,
   "metadata": {},
   "outputs": [
    {
     "name": "stderr",
     "output_type": "stream",
     "text": [
      "<ipython-input-29-7e7a7c158c85>:2: FutureWarning: Indexing with multiple keys (implicitly converted to a tuple of keys) will be deprecated, use a list instead.\n",
      "  orders.groupby('Order Priority')['Shipping Cost','Sales'].agg(['sum']).plot.bar()\n"
     ]
    },
    {
     "data": {
      "text/plain": [
       "Text(0.5, 1.0, 'Sales Revenue and Shipping Cost wrt Order Priority')"
      ]
     },
     "execution_count": 29,
     "metadata": {},
     "output_type": "execute_result"
    },
    {
     "data": {
      "image/png": "[encoded data removed]",
      "text/plain": [
       "<Figure size 720x360 with 1 Axes>"
      ]
     },
     "metadata": {
      "needs_background": "light"
     },
     "output_type": "display_data"
    }
   ],
   "source": [
    "plt.rcParams['figure.figsize']=10,5\n",
    "orders.groupby('Order Priority')['Shipping Cost','Sales'].agg(['sum']).plot.bar()\n",
    "plt.title('Sales Revenue and Shipping Cost wrt Order Priority', fontsize= 20)"
   ]
  },
  {
   "cell_type": "code",
   "execution_count": 30,
   "metadata": {},
   "outputs": [
    {
     "name": "stderr",
     "output_type": "stream",
     "text": [
      "<ipython-input-30-f0d9cf14b829>:2: FutureWarning: Indexing with multiple keys (implicitly converted to a tuple of keys) will be deprecated, use a list instead.\n",
      "  orders.groupby(['Ship Mode','Order Priority'])['Shipping Cost','Sales'].agg(['sum']).plot.bar()\n"
     ]
    },
    {
     "data": {
      "text/plain": [
       "Text(0.5, 1.0, 'Sales Revenue and Shipping Cost wrt Shipping Mode')"
      ]
     },
     "execution_count": 30,
     "metadata": {},
     "output_type": "execute_result"
    },
    {
     "data": {
      "image/png": "[encoded data removed]",
      "text/plain": [
       "<Figure size 720x360 with 1 Axes>"
      ]
     },
     "metadata": {
      "needs_background": "light"
     },
     "output_type": "display_data"
    }
   ],
   "source": [
    "plt.rcParams['figure.figsize']=10,5\n",
    "orders.groupby(['Ship Mode','Order Priority'])['Shipping Cost','Sales'].agg(['sum']).plot.bar()\n",
    "plt.title('Sales Revenue and Shipping Cost wrt Shipping Mode', fontsize= 20)"
   ]
  },
  {
   "cell_type": "markdown",
   "metadata": {},
   "source": [
    "## INSIGHTS"
   ]
  },
  {
   "cell_type": "code",
   "execution_count": 31,
   "metadata": {},
   "outputs": [
    {
     "name": "stderr",
     "output_type": "stream",
     "text": [
      "<ipython-input-31-8569f3bf5652>:2: FutureWarning: Indexing with multiple keys (implicitly converted to a tuple of keys) will be deprecated, use a list instead.\n",
      "  orders.groupby('Sub-Category')['Profit','Sales'].agg(['sum']).plot.bar()\n"
     ]
    },
    {
     "data": {
      "image/png": "[encoded data removed]",
      "text/plain": [
       "<Figure size 1080x720 with 1 Axes>"
      ]
     },
     "metadata": {
      "needs_background": "light"
     },
     "output_type": "display_data"
    }
   ],
   "source": [
    "plt.rcParams[\"figure.figsize\"]=15,10\n",
    "orders.groupby('Sub-Category')['Profit','Sales'].agg(['sum']).plot.bar()\n",
    "plt.title('Total Profit and Sales per Sub-Category')\n",
    "plt.legend(loc=2)\n",
    "plt.show()"
   ]
  },
  {
   "cell_type": "markdown",
   "metadata": {},
   "source": [
    "### The category furniture, sub-category analysis in the above figure is showing:\n",
    "<ul>\n",
    "  <li>All the categories are performing well in terms of revenue generation</li>\n",
    "  <li>The subcategory Tables, generating revenue is having a negative impact (52% loss) due to reasons such as high shipping cost, product being returned, product damage etc</li>\n",
    "</ul>"
   ]
  },
  {
   "cell_type": "code",
   "execution_count": 34,
   "metadata": {},
   "outputs": [
    {
     "data": {
      "text/plain": [
       "([0,\n",
       "  1,\n",
       "  2,\n",
       "  3,\n",
       "  4,\n",
       "  5,\n",
       "  6,\n",
       "  7,\n",
       "  8,\n",
       "  9,\n",
       "  10,\n",
       "  11,\n",
       "  12,\n",
       "  13,\n",
       "  14,\n",
       "  15,\n",
       "  16,\n",
       "  17,\n",
       "  18,\n",
       "  19,\n",
       "  20,\n",
       "  21,\n",
       "  22,\n",
       "  23,\n",
       "  24,\n",
       "  25,\n",
       "  26,\n",
       "  27,\n",
       "  28,\n",
       "  29,\n",
       "  30,\n",
       "  31,\n",
       "  32,\n",
       "  33,\n",
       "  34,\n",
       "  35,\n",
       "  36,\n",
       "  37,\n",
       "  38,\n",
       "  39,\n",
       "  40,\n",
       "  41,\n",
       "  42,\n",
       "  43,\n",
       "  44,\n",
       "  45,\n",
       "  46,\n",
       "  47,\n",
       "  48],\n",
       " <a list of 49 Text major ticklabel objects>)"
      ]
     },
     "execution_count": 34,
     "metadata": {},
     "output_type": "execute_result"
    },
    {
     "data": {
      "image/png": "[encoded data removed]",
      "text/plain": [
       "<Figure size 1440x720 with 1 Axes>"
      ]
     },
     "metadata": {
      "needs_background": "light"
     },
     "output_type": "display_data"
    }
   ],
   "source": [
    "plt.rcParams[\"figure.figsize\"]=20,10\n",
    "#_= sns.barplot(x=\"State\", y=\"Sales\", data=USA)\n",
    "_= plt.bar(x='State',height= 'Sales', align='center', data=USA)\n",
    "plt.title('Sales Revenue by states of USA', fontsize= 20)\n",
    "plt.ylabel('Sales Revenue', fontsize= 20)\n",
    "plt.xlabel('States', fontsize=20)\n",
    "plt.xticks(rotation=60)"
   ]
  },
  {
   "cell_type": "markdown",
   "metadata": {},
   "source": [
    "### The sales revenue analysis on the region/country in the above figure shows us that:\n",
    "<ul>\n",
    "    <li>The Country USA has maximum number of orders being placed but the maximum profit being generated is very low</li>\n",
    "    <li>Deeper dive into region/states we see that California and New york have highest orders but the maximum revenue is generated by Florida.</li>\n",
    "</ul>"
   ]
  },
  {
   "cell_type": "code",
   "execution_count": null,
   "metadata": {},
   "outputs": [],
   "source": [
    "plt.rcParams['figure.figsize']=10,5\n",
    "orders.groupby(['Ship Mode','Order Priority'])['Shipping Cost','Sales'].agg(['sum']).plot.bar()\n",
    "plt.title('Sales Revenue and Shipping Cost wrt Shipping Mode', fontsize= 20)"
   ]
  },
  {
   "cell_type": "markdown",
   "metadata": {},
   "source": [
    "### The shipping cost analysis provides us with the knowledge:\n",
    "<ul>\n",
    "    <li> The ship mode First class and Same day have order priority as Medium which does not suit the nature of the deliver, causing to inccur more cost with minimal delay in delivery.</li>\n",
    "    <li>The order priority if high should not have delivery mode as Standard as it agains inccurs more cost to the organisation</li>\n",
    "</ul>"
   ]
  }
 ],
 "metadata": {
  "kernelspec": {
   "display_name": "Python 3",
   "language": "python",
   "name": "python3"
  },
  "language_info": {
   "codemirror_mode": {
    "name": "ipython",
    "version": 3
   },
   "file_extension": ".py",
   "mimetype": "text/x-python",
   "name": "python",
   "nbconvert_exporter": "python",
   "pygments_lexer": "ipython3",
   "version": "3.8.3"
  }
 },
 "nbformat": 4,
 "nbformat_minor": 4
}
